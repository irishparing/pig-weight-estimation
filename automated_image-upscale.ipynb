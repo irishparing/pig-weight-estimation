{
 "cells": [
  {
   "cell_type": "code",
   "execution_count": 10,
   "metadata": {},
   "outputs": [
    {
     "ename": "ModuleNotFoundError",
     "evalue": "No module named 'realesrgan'",
     "output_type": "error",
     "traceback": [
      "\u001b[1;31m---------------------------------------------------------------------------\u001b[0m",
      "\u001b[1;31mModuleNotFoundError\u001b[0m                       Traceback (most recent call last)",
      "Cell \u001b[1;32mIn[10], line 4\u001b[0m\n\u001b[0;32m      2\u001b[0m \u001b[38;5;28;01mimport\u001b[39;00m \u001b[38;5;21;01mtorch\u001b[39;00m\n\u001b[0;32m      3\u001b[0m \u001b[38;5;28;01mimport\u001b[39;00m \u001b[38;5;21;01mnumpy\u001b[39;00m \u001b[38;5;28;01mas\u001b[39;00m \u001b[38;5;21;01mnp\u001b[39;00m\n\u001b[1;32m----> 4\u001b[0m \u001b[38;5;28;01mfrom\u001b[39;00m \u001b[38;5;21;01mrealesrgan\u001b[39;00m \u001b[38;5;28;01mimport\u001b[39;00m RealESRGAN\n\u001b[0;32m      5\u001b[0m \u001b[38;5;28;01mfrom\u001b[39;00m \u001b[38;5;21;01mpathlib\u001b[39;00m \u001b[38;5;28;01mimport\u001b[39;00m Path\n\u001b[0;32m      6\u001b[0m \u001b[38;5;28;01mfrom\u001b[39;00m \u001b[38;5;21;01mtqdm\u001b[39;00m \u001b[38;5;28;01mimport\u001b[39;00m tqdm\n",
      "\u001b[1;31mModuleNotFoundError\u001b[0m: No module named 'realesrgan'"
     ]
    }
   ],
   "source": [
    "import cv2\n",
    "import torch\n",
    "import numpy as np\n",
    "from realesrgan import RealESRGAN\n",
    "from pathlib import Path\n",
    "from tqdm import tqdm"
   ]
  },
  {
   "cell_type": "code",
   "execution_count": null,
   "metadata": {},
   "outputs": [],
   "source": [
    "def load_model():\n",
    "    device = torch.device(\"cuda\" if torch.cuda.is_available() else \"cpu\")\n",
    "    model_path = \"models\\\\4x-UltraSharp.pth\"  # Update with full path if needed\n",
    "    model = RealESRGAN(device, scale=4)\n",
    "    model.load_weights(model_path, download=False)\n",
    "    return model"
   ]
  },
  {
   "cell_type": "code",
   "execution_count": null,
   "metadata": {},
   "outputs": [],
   "source": [
    "# Upscale an image using 4x-UltraSharp\n",
    "def image_upscale(image_path, output_path):\n",
    "    model = load_model()\n",
    "    image = cv2.imread(str(image_path), cv2.IMREAD_UNCHANGED)\n",
    "    image = cv2.cvtColor(image, cv2.COLOR_BGR2RGB)  # Convert to RGB\n",
    "\n",
    "    upscaled_image = model.predict(image)\n",
    "\n",
    "    # Convert back to OpenCV format and save\n",
    "    upscaled_image = cv2.cvtColor(upscaled_image, cv2.COLOR_RGB2BGR)\n",
    "    cv2.imwrite(str(output_path), upscaled_image)"
   ]
  },
  {
   "cell_type": "code",
   "execution_count": null,
   "metadata": {},
   "outputs": [],
   "source": [
    "def process_subfolder(subdir, output_subdir):\n",
    "    output_subdir.mkdir(parents=True, exist_ok=True)\n",
    "\n",
    "    image_files = sorted(subdir.glob(\"frame_*_rgb_crop.png\"))  # Assuming filenames have '_rgb.png'\n",
    "    for rgb_file in tqdm(image_files, desc=f\"Processing {subdir.name}\"):\n",
    "        depth_file = rgb_file.with_name(rgb_file.stem.replace(\"_rgb\", \"_depth\") + rgb_file.suffix)\n",
    "\n",
    "        if not depth_file.exists():\n",
    "            print(f\"Warning: No corresponding depth image for {rgb_file.name}\")\n",
    "            continue\n",
    "\n",
    "        # # Read images\n",
    "        # rgb_image = cv2.imread(str(rgb_file))\n",
    "        # depth_image = cv2.imread(str(depth_file), cv2.IMREAD_UNCHANGED)\n",
    "\n",
    "        # # Remove background\n",
    "        # rgb_upscale = image_upscale(rgb_image)\n",
    "        # depth_upscale = image_upscale(depth_image)\n",
    "\n",
    "        # # Save output images\n",
    "        # cv2.imwrite(str(output_subdir / rgb_file.name), rgb_upscale)\n",
    "        # cv2.imwrite(str(output_subdir / depth_file.name), depth_upscale)\n",
    "\n",
    "        # Define output file paths\n",
    "        output_rgb_file = output_subdir / rgb_file.name\n",
    "        output_depth_file = output_subdir / depth_file.name\n",
    "\n",
    "        # Process images with Waifu2x\n",
    "        image_upscale(rgb_file, output_rgb_file)\n",
    "        image_upscale(depth_file, output_depth_file)"
   ]
  },
  {
   "cell_type": "code",
   "execution_count": null,
   "metadata": {},
   "outputs": [],
   "source": [
    "def process_images(input_folder, output_folder):\n",
    "    input_path = Path(input_folder)\n",
    "    output_path = Path(output_folder)\n",
    "    \n",
    "    if not input_path.exists():\n",
    "        print(\"Input folder does not exist.\")\n",
    "        return\n",
    "    \n",
    "    for subdir in tqdm(list(input_path.glob('*')), desc=\"Processing folders\"):\n",
    "        if subdir.is_dir():\n",
    "            process_subfolder(subdir, output_path / subdir.relative_to(input_path))"
   ]
  },
  {
   "cell_type": "code",
   "execution_count": null,
   "metadata": {},
   "outputs": [
    {
     "name": "stderr",
     "output_type": "stream",
     "text": [
      "Processing folders:   0%|          | 0/7 [00:00<?, ?it/s]"
     ]
    }
   ],
   "source": [
    "if __name__ == \"__main__\":\n",
    "    input_folder = \".\\\\Jan_14_2025-Batch1\\\\background_remove_output_20250309\"  # Change this to your actual path\n",
    "    output_folder = \".\\\\Jan_14_2025-Batch1\\\\image_upscale_output_20250309\"\n",
    "    process_images(input_folder, output_folder)"
   ]
  }
 ],
 "metadata": {
  "kernelspec": {
   "display_name": "Python 3",
   "language": "python",
   "name": "python3"
  },
  "language_info": {
   "codemirror_mode": {
    "name": "ipython",
    "version": 3
   },
   "file_extension": ".py",
   "mimetype": "text/x-python",
   "name": "python",
   "nbconvert_exporter": "python",
   "pygments_lexer": "ipython3",
   "version": "3.10.6"
  }
 },
 "nbformat": 4,
 "nbformat_minor": 2
}
