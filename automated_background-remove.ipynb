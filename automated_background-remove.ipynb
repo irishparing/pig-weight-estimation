{
 "cells": [
  {
   "cell_type": "code",
   "execution_count": 1,
   "metadata": {},
   "outputs": [],
   "source": [
    "import os\n",
    "import cv2\n",
    "import numpy as np\n",
    "from pathlib import Path\n",
    "from tqdm import tqdm"
   ]
  },
  {
   "cell_type": "code",
   "execution_count": 2,
   "metadata": {},
   "outputs": [],
   "source": [
    "def remove_background(image):\n",
    "    \"\"\"\n",
    "    Removes the background of an image using the GrabCut algorithm.\n",
    "    Assumes the pig is the main object in the image.\n",
    "    \"\"\"\n",
    "    mask = np.zeros(image.shape[:2], np.uint8)\n",
    "    \n",
    "    # Define background and foreground models\n",
    "    bgd_model = np.zeros((1, 65), np.float64)\n",
    "    fgd_model = np.zeros((1, 65), np.float64)\n",
    "    \n",
    "    # Define a rectangle around the object (assumed to be centered)\n",
    "    height, width = image.shape[:2]\n",
    "    \n",
    "    # Ensure the rectangle is within valid bounds\n",
    "    x1, y1 = max(1, width // 20), max(1, height // 20)\n",
    "    x2, y2 = min(width - 1, width - x1), min(height - 1, height - y1)\n",
    "\n",
    "    if x2 <= x1 or y2 <= y1:\n",
    "        print(f\"Skipping image due to invalid dimensions: {width}x{height}\")\n",
    "        return None, None  # Return None to handle errors gracefully\n",
    "\n",
    "    rect = (x1, y1, x2 - x1, y2 - y1)  # Safe rectangle\n",
    "\n",
    "    # Apply GrabCut algorithm\n",
    "    cv2.grabCut(image, mask, rect, bgd_model, fgd_model, 5, cv2.GC_INIT_WITH_RECT)\n",
    "\n",
    "    # Convert mask to binary: 1 for foreground, 0 for background\n",
    "    mask_binary = np.where((mask == 2) | (mask == 0), 0, 1).astype('uint8')\n",
    "\n",
    "    # Create an RGBA image with a transparent background\n",
    "    result = cv2.cvtColor(image, cv2.COLOR_BGR2BGRA)  # Convert to 4-channel (RGBA)\n",
    "    result[:, :, 3] = mask_binary * 255  # Apply transparency mask\n",
    "\n",
    "    return result, mask_binary * 255  # Return mask for depth processing"
   ]
  },
  {
   "cell_type": "code",
   "execution_count": 3,
   "metadata": {},
   "outputs": [],
   "source": [
    "def apply_mask_to_depth(depth_image, mask):\n",
    "    \"\"\"\n",
    "    Applies the same background removal mask to the depth image.\n",
    "    \"\"\"\n",
    "    result = cv2.bitwise_and(depth_image, depth_image, mask=mask)\n",
    "\n",
    "    result_bgra = cv2.cvtColor(result, cv2.COLOR_BGR2BGRA)\n",
    "\n",
    "    # Create a mask where black pixels ([0,0,0]) are detected\n",
    "    black_pixels = np.all(result[:, :, :3] == [0, 0, 0], axis=-1)\n",
    "\n",
    "    # Set alpha channel to 0 (transparent) where black pixels are found\n",
    "    result_bgra[black_pixels, 3] = 0\n",
    "\n",
    "    return result_bgra"
   ]
  },
  {
   "cell_type": "code",
   "execution_count": 4,
   "metadata": {},
   "outputs": [],
   "source": [
    "def process_subfolder(subdir, output_subdir):\n",
    "    output_subdir.mkdir(parents=True, exist_ok=True)\n",
    "\n",
    "    image_files = sorted(subdir.glob(\"frame_*_rgb_crop.png\"))  # Assuming filenames have '_rgb.png'\n",
    "    for rgb_file in tqdm(image_files, desc=f\"Processing {subdir.name}\"):\n",
    "        depth_file = rgb_file.with_name(rgb_file.stem.replace(\"_rgb\", \"_depth\") + rgb_file.suffix)\n",
    "\n",
    "        if not depth_file.exists():\n",
    "            print(f\"Warning: No corresponding depth image for {rgb_file.name}\")\n",
    "            continue\n",
    "\n",
    "        # Read images\n",
    "        rgb_image = cv2.imread(str(rgb_file))\n",
    "        depth_image = cv2.imread(str(depth_file), cv2.IMREAD_UNCHANGED)\n",
    "\n",
    "        # Remove background\n",
    "        rgb_no_bg, mask_binary = remove_background(rgb_image)\n",
    "        depth_no_bg = apply_mask_to_depth(depth_image, mask_binary)\n",
    "\n",
    "        # Save output images\n",
    "        cv2.imwrite(str(output_subdir / rgb_file.name), rgb_no_bg)\n",
    "        cv2.imwrite(str(output_subdir / depth_file.name), depth_no_bg)"
   ]
  },
  {
   "cell_type": "code",
   "execution_count": 5,
   "metadata": {},
   "outputs": [],
   "source": [
    "def process_images(input_folder, output_folder):\n",
    "    input_path = Path(input_folder)\n",
    "    output_path = Path(output_folder)\n",
    "    \n",
    "    if not input_path.exists():\n",
    "        print(\"Input folder does not exist.\")\n",
    "        return\n",
    "    \n",
    "    for subdir in tqdm(list(input_path.glob('*')), desc=\"Processing folders\"):\n",
    "        if subdir.is_dir():\n",
    "            process_subfolder(subdir, output_path / subdir.relative_to(input_path))"
   ]
  },
  {
   "cell_type": "code",
   "execution_count": 6,
   "metadata": {},
   "outputs": [
    {
     "name": "stderr",
     "output_type": "stream",
     "text": [
      "Processing depth_rgb_recording(1): 100%|██████████| 492/492 [03:13<00:00,  2.54it/s]\n",
      "Processing depth_rgb_recording(3): 100%|██████████| 434/434 [03:23<00:00,  2.14it/s]\n",
      "Processing depth_rgb_recording(4): 100%|██████████| 1044/1044 [04:43<00:00,  3.69it/s]\n",
      "Processing depth_rgb_recording(5): 100%|██████████| 462/462 [02:11<00:00,  3.51it/s]\n",
      "Processing depth_rgb_recording(6): 100%|██████████| 1086/1086 [8:03:59<00:00, 26.74s/it]\n",
      "Processing depth_rgb_recording(7): 100%|██████████| 614/614 [04:40<00:00,  2.19it/s]\n",
      "Processing depth_rgb_recording(8): 100%|██████████| 451/451 [02:13<00:00,  3.38it/s]\n",
      "Processing folders: 100%|██████████| 7/7 [8:24:25<00:00, 4323.58s/it]  \n"
     ]
    }
   ],
   "source": [
    "if __name__ == \"__main__\":\n",
    "    input_folder = \"C:\\\\Users\\\\USER\\\\Downloads\\\\Thesis\\\\Image Processing\\\\Jan 14 2025 - Batch 1\\\\outputs_test\"  # Change this to your actual path\n",
    "    output_folder = \".\\\\Jan 14 2025 - Batch 1\\\\background_remove_output_20250309\"\n",
    "    process_images(input_folder, output_folder)"
   ]
  }
 ],
 "metadata": {
  "kernelspec": {
   "display_name": "Python 3",
   "language": "python",
   "name": "python3"
  },
  "language_info": {
   "codemirror_mode": {
    "name": "ipython",
    "version": 3
   },
   "file_extension": ".py",
   "mimetype": "text/x-python",
   "name": "python",
   "nbconvert_exporter": "python",
   "pygments_lexer": "ipython3",
   "version": "3.11.9"
  }
 },
 "nbformat": 4,
 "nbformat_minor": 2
}
