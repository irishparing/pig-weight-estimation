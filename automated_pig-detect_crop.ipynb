{
 "cells": [
  {
   "cell_type": "code",
   "execution_count": 1,
   "metadata": {},
   "outputs": [],
   "source": [
    "import cv2\n",
    "import numpy as np\n",
    "from inference_sdk import InferenceHTTPClient\n",
    "import os\n",
    "import tempfile"
   ]
  },
  {
   "cell_type": "code",
   "execution_count": 2,
   "metadata": {},
   "outputs": [],
   "source": [
    "# Initialize the Roboflow inference client\n",
    "CLIENT = InferenceHTTPClient(\n",
    "    api_url=\"https://outline.roboflow.com\",\n",
    "    api_key=\"n7ScRPPA2ZMJoTCdUrBp\"\n",
    ")\n",
    "\n",
    "MODEL_ID = \"data_tonghop/2\""
   ]
  },
  {
   "cell_type": "code",
   "execution_count": 3,
   "metadata": {},
   "outputs": [],
   "source": [
    "# Folder paths\n",
    "# folder_1 = \"C:\\\\Users\\\\USER\\\\Downloads\"\n",
    "# folder_2 = \"\\\\Thesis\\\\Image Processing\\\\Jan 14 2025 - Batch 1\"\n",
    "input_folder = \".\\\\April_05_2025-Batch3\"\n",
    "done_folder = os.path.join(input_folder, \"Done\")\n",
    "output_folder = os.path.join(input_folder, \"outputs\")\n",
    "\n",
    "# Create folders if they don't exist\n",
    "os.makedirs(done_folder, exist_ok=True)\n",
    "os.makedirs(output_folder, exist_ok=True)\n",
    "\n",
    "# Padding for bounding boxes\n",
    "padding = 10"
   ]
  },
  {
   "cell_type": "code",
   "execution_count": 4,
   "metadata": {},
   "outputs": [
    {
     "ename": "HTTPCallErrorError",
     "evalue": "HTTPCallErrorError(description='403 Client Error: Forbidden for url: https://outline.roboflow.com/data_tonghop/2?api_key=n7***Bp&disable_active_learning=False', api_message='Forbidden',status_code=403)",
     "output_type": "error",
     "traceback": [
      "\u001b[1;31m---------------------------------------------------------------------------\u001b[0m",
      "\u001b[1;31mHTTPError\u001b[0m                                 Traceback (most recent call last)",
      "File \u001b[1;32m~\\AppData\\Local\\Packages\\PythonSoftwareFoundation.Python.3.11_qbz5n2kfra8p0\\LocalCache\\local-packages\\Python311\\site-packages\\inference_sdk\\http\\client.py:94\u001b[0m, in \u001b[0;36mwrap_errors.<locals>.decorate\u001b[1;34m(*args, **kwargs)\u001b[0m\n\u001b[0;32m     93\u001b[0m \u001b[38;5;28;01mtry\u001b[39;00m:\n\u001b[1;32m---> 94\u001b[0m     \u001b[38;5;28;01mreturn\u001b[39;00m \u001b[43mfunction\u001b[49m\u001b[43m(\u001b[49m\u001b[38;5;241;43m*\u001b[39;49m\u001b[43margs\u001b[49m\u001b[43m,\u001b[49m\u001b[43m \u001b[49m\u001b[38;5;241;43m*\u001b[39;49m\u001b[38;5;241;43m*\u001b[39;49m\u001b[43mkwargs\u001b[49m\u001b[43m)\u001b[49m\n\u001b[0;32m     95\u001b[0m \u001b[38;5;28;01mexcept\u001b[39;00m HTTPError \u001b[38;5;28;01mas\u001b[39;00m error:\n",
      "File \u001b[1;32m~\\AppData\\Local\\Packages\\PythonSoftwareFoundation.Python.3.11_qbz5n2kfra8p0\\LocalCache\\local-packages\\Python311\\site-packages\\inference_sdk\\http\\client.py:400\u001b[0m, in \u001b[0;36mInferenceHTTPClient.infer\u001b[1;34m(self, inference_input, model_id)\u001b[0m\n\u001b[0;32m    399\u001b[0m \u001b[38;5;28;01mif\u001b[39;00m \u001b[38;5;28mself\u001b[39m\u001b[38;5;241m.\u001b[39m__client_mode \u001b[38;5;129;01mis\u001b[39;00m HTTPClientMode\u001b[38;5;241m.\u001b[39mV0:\n\u001b[1;32m--> 400\u001b[0m     \u001b[38;5;28;01mreturn\u001b[39;00m \u001b[38;5;28;43mself\u001b[39;49m\u001b[38;5;241;43m.\u001b[39;49m\u001b[43minfer_from_api_v0\u001b[49m\u001b[43m(\u001b[49m\n\u001b[0;32m    401\u001b[0m \u001b[43m        \u001b[49m\u001b[43minference_input\u001b[49m\u001b[38;5;241;43m=\u001b[39;49m\u001b[43minference_input\u001b[49m\u001b[43m,\u001b[49m\n\u001b[0;32m    402\u001b[0m \u001b[43m        \u001b[49m\u001b[43mmodel_id\u001b[49m\u001b[38;5;241;43m=\u001b[39;49m\u001b[43mmodel_id\u001b[49m\u001b[43m,\u001b[49m\n\u001b[0;32m    403\u001b[0m \u001b[43m    \u001b[49m\u001b[43m)\u001b[49m\n\u001b[0;32m    404\u001b[0m \u001b[38;5;28;01mreturn\u001b[39;00m \u001b[38;5;28mself\u001b[39m\u001b[38;5;241m.\u001b[39minfer_from_api_v1(\n\u001b[0;32m    405\u001b[0m     inference_input\u001b[38;5;241m=\u001b[39minference_input,\n\u001b[0;32m    406\u001b[0m     model_id\u001b[38;5;241m=\u001b[39mmodel_id,\n\u001b[0;32m    407\u001b[0m )\n",
      "File \u001b[1;32m~\\AppData\\Local\\Packages\\PythonSoftwareFoundation.Python.3.11_qbz5n2kfra8p0\\LocalCache\\local-packages\\Python311\\site-packages\\inference_sdk\\http\\client.py:489\u001b[0m, in \u001b[0;36mInferenceHTTPClient.infer_from_api_v0\u001b[1;34m(self, inference_input, model_id)\u001b[0m\n\u001b[0;32m    480\u001b[0m requests_data \u001b[38;5;241m=\u001b[39m prepare_requests_data(\n\u001b[0;32m    481\u001b[0m     url\u001b[38;5;241m=\u001b[39m\u001b[38;5;124mf\u001b[39m\u001b[38;5;124m\"\u001b[39m\u001b[38;5;132;01m{\u001b[39;00m\u001b[38;5;28mself\u001b[39m\u001b[38;5;241m.\u001b[39m__api_url\u001b[38;5;132;01m}\u001b[39;00m\u001b[38;5;124m/\u001b[39m\u001b[38;5;132;01m{\u001b[39;00mmodel_id_chunks[\u001b[38;5;241m0\u001b[39m]\u001b[38;5;132;01m}\u001b[39;00m\u001b[38;5;124m/\u001b[39m\u001b[38;5;132;01m{\u001b[39;00mmodel_id_chunks[\u001b[38;5;241m1\u001b[39m]\u001b[38;5;132;01m}\u001b[39;00m\u001b[38;5;124m\"\u001b[39m,\n\u001b[0;32m    482\u001b[0m     encoded_inference_inputs\u001b[38;5;241m=\u001b[39mencoded_inference_inputs,\n\u001b[1;32m   (...)\u001b[0m\n\u001b[0;32m    487\u001b[0m     image_placement\u001b[38;5;241m=\u001b[39mImagePlacement\u001b[38;5;241m.\u001b[39mDATA,\n\u001b[0;32m    488\u001b[0m )\n\u001b[1;32m--> 489\u001b[0m responses \u001b[38;5;241m=\u001b[39m \u001b[43mexecute_requests_packages\u001b[49m\u001b[43m(\u001b[49m\n\u001b[0;32m    490\u001b[0m \u001b[43m    \u001b[49m\u001b[43mrequests_data\u001b[49m\u001b[38;5;241;43m=\u001b[39;49m\u001b[43mrequests_data\u001b[49m\u001b[43m,\u001b[49m\n\u001b[0;32m    491\u001b[0m \u001b[43m    \u001b[49m\u001b[43mrequest_method\u001b[49m\u001b[38;5;241;43m=\u001b[39;49m\u001b[43mRequestMethod\u001b[49m\u001b[38;5;241;43m.\u001b[39;49m\u001b[43mPOST\u001b[49m\u001b[43m,\u001b[49m\n\u001b[0;32m    492\u001b[0m \u001b[43m    \u001b[49m\u001b[43mmax_concurrent_requests\u001b[49m\u001b[38;5;241;43m=\u001b[39;49m\u001b[38;5;28;43mself\u001b[39;49m\u001b[38;5;241;43m.\u001b[39;49m\u001b[43m__inference_configuration\u001b[49m\u001b[38;5;241;43m.\u001b[39;49m\u001b[43mmax_concurrent_requests\u001b[49m\u001b[43m,\u001b[49m\n\u001b[0;32m    493\u001b[0m \u001b[43m\u001b[49m\u001b[43m)\u001b[49m\n\u001b[0;32m    494\u001b[0m results \u001b[38;5;241m=\u001b[39m []\n",
      "File \u001b[1;32m~\\AppData\\Local\\Packages\\PythonSoftwareFoundation.Python.3.11_qbz5n2kfra8p0\\LocalCache\\local-packages\\Python311\\site-packages\\inference_sdk\\http\\utils\\executors.py:65\u001b[0m, in \u001b[0;36mexecute_requests_packages\u001b[1;34m(requests_data, request_method, max_concurrent_requests)\u001b[0m\n\u001b[0;32m     64\u001b[0m \u001b[38;5;28;01mfor\u001b[39;00m response \u001b[38;5;129;01min\u001b[39;00m results:\n\u001b[1;32m---> 65\u001b[0m     \u001b[43mapi_key_safe_raise_for_status\u001b[49m\u001b[43m(\u001b[49m\u001b[43mresponse\u001b[49m\u001b[38;5;241;43m=\u001b[39;49m\u001b[43mresponse\u001b[49m\u001b[43m)\u001b[49m\n\u001b[0;32m     66\u001b[0m \u001b[38;5;28;01mreturn\u001b[39;00m results\n",
      "File \u001b[1;32m~\\AppData\\Local\\Packages\\PythonSoftwareFoundation.Python.3.11_qbz5n2kfra8p0\\LocalCache\\local-packages\\Python311\\site-packages\\inference_sdk\\http\\utils\\requests.py:21\u001b[0m, in \u001b[0;36mapi_key_safe_raise_for_status\u001b[1;34m(response)\u001b[0m\n\u001b[0;32m     20\u001b[0m response\u001b[38;5;241m.\u001b[39murl \u001b[38;5;241m=\u001b[39m deduct_api_key_from_string(value\u001b[38;5;241m=\u001b[39mresponse\u001b[38;5;241m.\u001b[39murl)\n\u001b[1;32m---> 21\u001b[0m \u001b[43mresponse\u001b[49m\u001b[38;5;241;43m.\u001b[39;49m\u001b[43mraise_for_status\u001b[49m\u001b[43m(\u001b[49m\u001b[43m)\u001b[49m\n",
      "File \u001b[1;32m~\\AppData\\Local\\Packages\\PythonSoftwareFoundation.Python.3.11_qbz5n2kfra8p0\\LocalCache\\local-packages\\Python311\\site-packages\\requests\\models.py:1024\u001b[0m, in \u001b[0;36mResponse.raise_for_status\u001b[1;34m(self)\u001b[0m\n\u001b[0;32m   1023\u001b[0m \u001b[38;5;28;01mif\u001b[39;00m http_error_msg:\n\u001b[1;32m-> 1024\u001b[0m     \u001b[38;5;28;01mraise\u001b[39;00m HTTPError(http_error_msg, response\u001b[38;5;241m=\u001b[39m\u001b[38;5;28mself\u001b[39m)\n",
      "\u001b[1;31mHTTPError\u001b[0m: 403 Client Error: Forbidden for url: https://outline.roboflow.com/data_tonghop/2?api_key=n7***Bp&disable_active_learning=False",
      "\nThe above exception was the direct cause of the following exception:\n",
      "\u001b[1;31mHTTPCallErrorError\u001b[0m                        Traceback (most recent call last)",
      "Cell \u001b[1;32mIn[4], line 46\u001b[0m\n\u001b[0;32m     42\u001b[0m     cv2\u001b[38;5;241m.\u001b[39mimwrite(temp_image_path, rgb_frame)\n\u001b[0;32m     44\u001b[0m \u001b[38;5;28;01mtry\u001b[39;00m:\n\u001b[0;32m     45\u001b[0m     \u001b[38;5;66;03m# Perform inference via Roboflow API\u001b[39;00m\n\u001b[1;32m---> 46\u001b[0m     response \u001b[38;5;241m=\u001b[39m \u001b[43mCLIENT\u001b[49m\u001b[38;5;241;43m.\u001b[39;49m\u001b[43minfer\u001b[49m\u001b[43m(\u001b[49m\u001b[43mtemp_image_path\u001b[49m\u001b[43m,\u001b[49m\u001b[43m \u001b[49m\u001b[43mmodel_id\u001b[49m\u001b[38;5;241;43m=\u001b[39;49m\u001b[43mMODEL_ID\u001b[49m\u001b[43m)\u001b[49m\n\u001b[0;32m     48\u001b[0m     \u001b[38;5;66;03m# Counter for bounding boxes in this frame\u001b[39;00m\n\u001b[0;32m     49\u001b[0m     bbox_count \u001b[38;5;241m=\u001b[39m \u001b[38;5;241m1\u001b[39m\n",
      "File \u001b[1;32m~\\AppData\\Local\\Packages\\PythonSoftwareFoundation.Python.3.11_qbz5n2kfra8p0\\LocalCache\\local-packages\\Python311\\site-packages\\inference_sdk\\http\\client.py:104\u001b[0m, in \u001b[0;36mwrap_errors.<locals>.decorate\u001b[1;34m(*args, **kwargs)\u001b[0m\n\u001b[0;32m    102\u001b[0m     \u001b[38;5;28;01melse\u001b[39;00m:\n\u001b[0;32m    103\u001b[0m         api_message \u001b[38;5;241m=\u001b[39m error\u001b[38;5;241m.\u001b[39mresponse\u001b[38;5;241m.\u001b[39mtext\n\u001b[1;32m--> 104\u001b[0m     \u001b[38;5;28;01mraise\u001b[39;00m HTTPCallErrorError(\n\u001b[0;32m    105\u001b[0m         description\u001b[38;5;241m=\u001b[39m\u001b[38;5;28mstr\u001b[39m(error),\n\u001b[0;32m    106\u001b[0m         status_code\u001b[38;5;241m=\u001b[39merror\u001b[38;5;241m.\u001b[39mresponse\u001b[38;5;241m.\u001b[39mstatus_code,\n\u001b[0;32m    107\u001b[0m         api_message\u001b[38;5;241m=\u001b[39mapi_message,\n\u001b[0;32m    108\u001b[0m     ) \u001b[38;5;28;01mfrom\u001b[39;00m \u001b[38;5;21;01merror\u001b[39;00m\n\u001b[0;32m    109\u001b[0m \u001b[38;5;28;01mexcept\u001b[39;00m \u001b[38;5;167;01mConnectionError\u001b[39;00m \u001b[38;5;28;01mas\u001b[39;00m error:\n\u001b[0;32m    110\u001b[0m     \u001b[38;5;28;01mraise\u001b[39;00m HTTPClientError(\n\u001b[0;32m    111\u001b[0m         \u001b[38;5;124mf\u001b[39m\u001b[38;5;124m\"\u001b[39m\u001b[38;5;124mError with server connection: \u001b[39m\u001b[38;5;132;01m{\u001b[39;00mdeduct_api_key_from_string(\u001b[38;5;28mstr\u001b[39m(error))\u001b[38;5;132;01m}\u001b[39;00m\u001b[38;5;124m\"\u001b[39m\n\u001b[0;32m    112\u001b[0m     ) \u001b[38;5;28;01mfrom\u001b[39;00m \u001b[38;5;21;01merror\u001b[39;00m\n",
      "\u001b[1;31mHTTPCallErrorError\u001b[0m: HTTPCallErrorError(description='403 Client Error: Forbidden for url: https://outline.roboflow.com/data_tonghop/2?api_key=n7***Bp&disable_active_learning=False', api_message='Forbidden',status_code=403)"
     ]
    }
   ],
   "source": [
    "# Process each video in the folder\n",
    "for video_file in os.listdir(input_folder):\n",
    "    if not video_file.endswith(\".mp4\"):\n",
    "        continue\n",
    "\n",
    "    video_path = os.path.join(input_folder, video_file)\n",
    "    video_name = os.path.splitext(video_file)[0]\n",
    "\n",
    "    # Create output subfolder for this video\n",
    "    video_output_folder = os.path.join(output_folder, video_name)\n",
    "    os.makedirs(video_output_folder, exist_ok=True)\n",
    "\n",
    "    # Open the video\n",
    "    cap = cv2.VideoCapture(video_path)\n",
    "\n",
    "    # Get video properties\n",
    "    frame_width = int(cap.get(cv2.CAP_PROP_FRAME_WIDTH))\n",
    "    frame_height = int(cap.get(cv2.CAP_PROP_FRAME_HEIGHT))\n",
    "    fps = int(cap.get(cv2.CAP_PROP_FPS))\n",
    "\n",
    "    # Output video path\n",
    "    output_video_path = os.path.join(video_output_folder, f\"{video_name}_processed.mp4\")\n",
    "\n",
    "    # Video writer to save output\n",
    "    fourcc = cv2.VideoWriter_fourcc(*'mp4v')\n",
    "    out = cv2.VideoWriter(output_video_path, fourcc, fps, (frame_width, frame_height))\n",
    "\n",
    "    frame_count = 0\n",
    "\n",
    "    while cap.isOpened():\n",
    "        ret, frame = cap.read()\n",
    "        if not ret:\n",
    "            break\n",
    "\n",
    "        # Extract depth and RGB sides\n",
    "        depth_frame = frame[:, :frame_width // 2]\n",
    "        rgb_frame = frame[:, frame_width // 2:]\n",
    "\n",
    "        # Save the RGB frame to a temporary file\n",
    "        with tempfile.NamedTemporaryFile(suffix=\".jpg\", delete=False) as temp_file:\n",
    "            temp_image_path = temp_file.name\n",
    "            cv2.imwrite(temp_image_path, rgb_frame)\n",
    "\n",
    "        try:\n",
    "            # Perform inference via Roboflow API\n",
    "            response = CLIENT.infer(temp_image_path, model_id=MODEL_ID)\n",
    "\n",
    "            # Counter for bounding boxes in this frame\n",
    "            bbox_count = 1\n",
    "\n",
    "            # Parse response for bounding boxes\n",
    "            for prediction in response['predictions']:\n",
    "                x = int(prediction['x'])\n",
    "                y = int(prediction['y'])\n",
    "                width = int(prediction['width'])\n",
    "                height = int(prediction['height'])\n",
    "\n",
    "                # Calculate bounding box coordinates (RGB side)\n",
    "                x1 = max(x - width // 2 - padding, 0)\n",
    "                y1 = max(y - height // 2 - padding, 0)\n",
    "                x2 = min(x + width // 2 + padding, rgb_frame.shape[1] - 1)\n",
    "                y2 = min(y + height // 2 + padding, rgb_frame.shape[0] - 1)\n",
    "\n",
    "                # Draw the bounding box on RGB frame\n",
    "                cv2.rectangle(rgb_frame, (x1, y1), (x2, y2), (0, 255, 0), 2)\n",
    "\n",
    "                # Map bounding box to depth frame\n",
    "                depth_x1 = x1\n",
    "                depth_y1 = y1\n",
    "                depth_x2 = x2\n",
    "                depth_y2 = y2\n",
    "\n",
    "                # Crop the region from the depth frame\n",
    "                cropped_rgb = rgb_frame[y1:y2, x1:x2]\n",
    "                cropped_depth = depth_frame[depth_y1:depth_y2, depth_x1:depth_x2]\n",
    "\n",
    "                # Save the cropped frames with incremental numbering\n",
    "                cropped_file_path_rgb = os.path.join(video_output_folder, f\"frame_{frame_count}_rgb_crop_{bbox_count}.png\")\n",
    "                cropped_file_path_depth = os.path.join(video_output_folder, f\"frame_{frame_count}_depth_crop_{bbox_count}.png\")\n",
    "                cv2.imwrite(cropped_file_path_rgb, cropped_rgb)\n",
    "                cv2.imwrite(cropped_file_path_depth, cropped_depth)\n",
    "\n",
    "                # Increment bounding box counter\n",
    "                bbox_count += 1\n",
    "\n",
    "        finally:\n",
    "            # Clean up the temporary file\n",
    "            if os.path.exists(temp_image_path):\n",
    "                os.remove(temp_image_path)\n",
    "\n",
    "        # Combine the RGB frame with the depth side (left half)\n",
    "        frame[:, frame_width // 2:] = rgb_frame\n",
    "\n",
    "        # Write the frame with bounding boxes to the output video\n",
    "        out.write(frame)\n",
    "\n",
    "        frame_count += 1\n",
    "\n",
    "    # Release resources for this video\n",
    "    cap.release()\n",
    "    out.release()\n",
    "\n",
    "    # Move processed video to \"Done\" folder\n",
    "    os.rename(video_path, os.path.join(done_folder, video_file))\n"
   ]
  },
  {
   "cell_type": "code",
   "execution_count": null,
   "metadata": {},
   "outputs": [
    {
     "name": "stdout",
     "output_type": "stream",
     "text": [
      "Processing complete. Outputs saved in .\\Jan_14_2025-Batch1\\outputs\n"
     ]
    }
   ],
   "source": [
    "print(f\"Processing complete. Outputs saved in {output_folder}\")"
   ]
  }
 ],
 "metadata": {
  "kernelspec": {
   "display_name": "Python 3",
   "language": "python",
   "name": "python3"
  },
  "language_info": {
   "codemirror_mode": {
    "name": "ipython",
    "version": 3
   },
   "file_extension": ".py",
   "mimetype": "text/x-python",
   "name": "python",
   "nbconvert_exporter": "python",
   "pygments_lexer": "ipython3",
   "version": "3.11.9"
  }
 },
 "nbformat": 4,
 "nbformat_minor": 2
}
